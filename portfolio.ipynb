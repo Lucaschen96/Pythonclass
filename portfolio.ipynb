{
 "cells": [
  {
   "cell_type": "code",
   "execution_count": 17,
   "metadata": {
    "collapsed": true
   },
   "outputs": [],
   "source": [
    "import yfinance as yf\n",
    "import pandas as pd\n",
    "import numpy as np\n",
    "import random\n",
    "import datetime\n",
    "import matplotlib.pyplot as plt"
   ]
  },
  {
   "cell_type": "code",
   "execution_count": 18,
   "outputs": [
    {
     "name": "stdout",
     "output_type": "stream",
     "text": [
      "100\n",
      "['VRSK', 'SCHW', 'NWSA', 'EA', 'MRNA', 'MAA', 'KO', 'HON', 'STT', 'IPGP', 'DLR', 'ALL', 'XOM', 'WEC', 'DE', 'CFG', 'HOLX', 'SPGI', 'CVX', 'CDNS', 'KEY', 'DHI', 'EXPD', 'ICE', 'COO', 'CTSH', 'CLX', 'CNC', 'GILD', 'VZ', 'ADI', 'ALK', 'SWKS', 'NDAQ', 'APTV', 'IR', 'PG', 'JCI', 'LH', 'JNJ', 'MTD', 'CERN', 'IRM', 'PAYX', 'CPRT', 'MKC', 'EXR', 'NXPI', 'MNST', 'NVDA', 'CAH', 'POOL', 'SLB', 'CTAS', 'VRSN', 'SNPS', 'MAS', 'FDS', 'MRO', 'LLY', 'UAA', 'PENN', 'INCY', 'ES', 'TXT', 'ABBV', 'OGN', 'CHD', 'PYPL', 'TGT', 'LEN', 'AAL', 'DRE', 'CMS', 'PCAR', 'PKI', 'VLO', 'IP', 'WRK', 'AON', 'ROP', 'CCL', 'BWA', 'FAST', 'BEN', 'MS', 'J', 'EXC', 'MO', 'LOW', 'AVY', 'NCLH', 'EBAY', 'PSX', 'PNW', 'ROST', 'FB', 'MRK', 'WYNN', 'VRTX']\n",
      "[*********************100%***********************]  100 of 100 completed\n",
      "\n",
      "3 Failed downloads:\n",
      "- OGN: Data doesn't exist for startDate = 1262300400, endDate = 1451602800\n",
      "- MRNA: Data doesn't exist for startDate = 1262300400, endDate = 1451602800\n",
      "- IR: Data doesn't exist for startDate = 1262300400, endDate = 1451602800\n",
      "                 HOLX                                                       \\\n",
      "                 Open       High        Low      Close  Adj Close   Volume   \n",
      "Date                                                                         \n",
      "2009-12-31  14.650000  14.710000  14.460000  14.500000  14.500000  1595800   \n",
      "2010-01-04  14.690000  14.990000  14.670000  14.940000  14.940000  4011600   \n",
      "2010-01-05  14.950000  14.970000  14.800000  14.940000  14.940000  2211800   \n",
      "2010-01-06  14.880000  15.040000  14.800000  15.010000  15.010000  3313500   \n",
      "2010-01-07  14.990000  15.050000  14.810000  14.990000  14.990000  2683300   \n",
      "...               ...        ...        ...        ...        ...      ...   \n",
      "2015-12-24  38.840000  39.299999  38.700001  39.080002  39.080002   434600   \n",
      "2015-12-28  38.880001  39.330002  38.740002  39.299999  39.299999  1000400   \n",
      "2015-12-29  39.490002  39.939999  39.419998  39.549999  39.549999   960800   \n",
      "2015-12-30  39.400002  39.700001  39.290001  39.340000  39.340000   659300   \n",
      "2015-12-31  39.139999  39.340000  38.500000  38.689999  38.689999   933600   \n",
      "\n",
      "                 ABBV                                   ...        BEN  \\\n",
      "                 Open       High        Low      Close  ...        Low   \n",
      "Date                                                    ...              \n",
      "2009-12-31        NaN        NaN        NaN        NaN  ...  35.116669   \n",
      "2010-01-04        NaN        NaN        NaN        NaN  ...  35.299999   \n",
      "2010-01-05        NaN        NaN        NaN        NaN  ...  35.799999   \n",
      "2010-01-06        NaN        NaN        NaN        NaN  ...  36.106667   \n",
      "2010-01-07        NaN        NaN        NaN        NaN  ...  35.873333   \n",
      "...               ...        ...        ...        ...  ...        ...   \n",
      "2015-12-24  58.380001  58.730000  58.000000  58.459999  ...  36.799999   \n",
      "2015-12-28  58.270000  58.970001  57.759998  58.750000  ...  36.599998   \n",
      "2015-12-29  59.020000  59.700001  59.020000  59.450001  ...  37.070000   \n",
      "2015-12-30  59.400002  60.119999  59.310001  59.799999  ...  36.990002   \n",
      "2015-12-31  59.500000  59.930000  59.200001  59.240002  ...  36.689999   \n",
      "\n",
      "                                              FAST                        \\\n",
      "                Close  Adj Close   Volume     Open       High        Low   \n",
      "Date                                                                       \n",
      "2009-12-31  35.116669  23.783899  1843800  10.5125  10.542500  10.375000   \n",
      "2010-01-04  36.000000  24.382156  3746700  10.5050  10.592500  10.422500   \n",
      "2010-01-05  36.279999  24.571795  3276600  10.4800  10.737500  10.437500   \n",
      "2010-01-06  36.306667  24.589848  2470800  11.0475  11.620000  11.002500   \n",
      "2010-01-07  35.980000  24.368610  3049200  11.3325  11.720000  11.170000   \n",
      "...               ...        ...      ...      ...        ...        ...   \n",
      "2015-12-24  36.970001  28.021038  1452700  20.6350  20.879999  20.500000   \n",
      "2015-12-28  36.919998  27.983130  3014000  20.6950  20.799999  20.480000   \n",
      "2015-12-29  37.400002  28.346945  2414300  20.8050  20.980000  20.745001   \n",
      "2015-12-30  37.029999  28.066507  2354200  20.8400  20.965000  20.735001   \n",
      "2015-12-31  36.820000  27.907343  2025900  20.7050  20.809999  20.400000   \n",
      "\n",
      "                                            \n",
      "                Close  Adj Close    Volume  \n",
      "Date                                        \n",
      "2009-12-31  10.410000   7.621317   3614400  \n",
      "2010-01-04  10.507500   7.692696   6864000  \n",
      "2010-01-05  10.725000   7.851933   5797600  \n",
      "2010-01-06  11.432500   8.369905  20658800  \n",
      "2010-01-07  11.627500   8.512666  12490400  \n",
      "...               ...        ...       ...  \n",
      "2015-12-24  20.754999  17.473322   2786600  \n",
      "2015-12-28  20.700001  17.427015   3209600  \n",
      "2015-12-29  20.820000  17.528038   3394200  \n",
      "2015-12-30  20.754999  17.473322   3982000  \n",
      "2015-12-31  20.410000  17.182871   2984000  \n",
      "\n",
      "[1511 rows x 600 columns]\n"
     ]
    }
   ],
   "source": [
    "sptab = pd.read_html('https://en.wikipedia.org/wiki/List_of_S%26P_500_companies')[0]\n",
    "tickers = sptab['Symbol'].tolist()\n",
    "nb_asset = np.random.randint(80,200)\n",
    "print(nb_asset)\n",
    "asset_list = random.sample(tickers, nb_asset)\n",
    "print(asset_list)\n",
    "start_time = datetime.datetime(2010,1,1)\n",
    "size_momentum = 1000\n",
    "end_time = datetime.datetime(2016,1,1)\n",
    "df = yf.download(asset_list, start= start_time, end = end_time, group_by=\"tickers\")\n",
    "print(df)"
   ],
   "metadata": {
    "collapsed": false,
    "pycharm": {
     "name": "#%%\n"
    }
   }
  },
  {
   "cell_type": "code",
   "execution_count": 19,
   "outputs": [
    {
     "ename": "KeyError",
     "evalue": "\"None of [Index(['Close'], dtype='object', name='Date')] are in the [index]\"",
     "output_type": "error",
     "traceback": [
      "\u001B[0;31m---------------------------------------------------------------------------\u001B[0m",
      "\u001B[0;31mKeyError\u001B[0m                                  Traceback (most recent call last)",
      "\u001B[0;32m/var/folders/hf/8r_2ng855x110ljylft3f34m0000gn/T/ipykernel_3108/1934134335.py\u001B[0m in \u001B[0;36m<module>\u001B[0;34m\u001B[0m\n\u001B[1;32m      2\u001B[0m \u001B[0;32mfor\u001B[0m \u001B[0mi\u001B[0m \u001B[0;32min\u001B[0m \u001B[0masset_list\u001B[0m\u001B[0;34m:\u001B[0m\u001B[0;34m\u001B[0m\u001B[0;34m\u001B[0m\u001B[0m\n\u001B[1;32m      3\u001B[0m     \u001B[0;31m# df[i].loc[:,'return']=df[i]['Close'].pct_change()\u001B[0m\u001B[0;34m\u001B[0m\u001B[0;34m\u001B[0m\u001B[0m\n\u001B[0;32m----> 4\u001B[0;31m     \u001B[0mdf\u001B[0m\u001B[0;34m[\u001B[0m\u001B[0mi\u001B[0m\u001B[0;34m]\u001B[0m\u001B[0;34m.\u001B[0m\u001B[0mloc\u001B[0m\u001B[0;34m[\u001B[0m\u001B[0;32mlambda\u001B[0m \u001B[0mdf\u001B[0m\u001B[0;34m:\u001B[0m\u001B[0;34m[\u001B[0m\u001B[0;34m'Close'\u001B[0m\u001B[0;34m]\u001B[0m\u001B[0;34m]\u001B[0m\u001B[0;34m\u001B[0m\u001B[0;34m\u001B[0m\u001B[0m\n\u001B[0m\u001B[1;32m      5\u001B[0m \u001B[0;34m\u001B[0m\u001B[0m\n",
      "\u001B[0;32m/opt/anaconda3/python.app/Contents/lib/python3.9/site-packages/pandas/core/indexing.py\u001B[0m in \u001B[0;36m__getitem__\u001B[0;34m(self, key)\u001B[0m\n\u001B[1;32m    929\u001B[0m \u001B[0;34m\u001B[0m\u001B[0m\n\u001B[1;32m    930\u001B[0m             \u001B[0mmaybe_callable\u001B[0m \u001B[0;34m=\u001B[0m \u001B[0mcom\u001B[0m\u001B[0;34m.\u001B[0m\u001B[0mapply_if_callable\u001B[0m\u001B[0;34m(\u001B[0m\u001B[0mkey\u001B[0m\u001B[0;34m,\u001B[0m \u001B[0mself\u001B[0m\u001B[0;34m.\u001B[0m\u001B[0mobj\u001B[0m\u001B[0;34m)\u001B[0m\u001B[0;34m\u001B[0m\u001B[0;34m\u001B[0m\u001B[0m\n\u001B[0;32m--> 931\u001B[0;31m             \u001B[0;32mreturn\u001B[0m \u001B[0mself\u001B[0m\u001B[0;34m.\u001B[0m\u001B[0m_getitem_axis\u001B[0m\u001B[0;34m(\u001B[0m\u001B[0mmaybe_callable\u001B[0m\u001B[0;34m,\u001B[0m \u001B[0maxis\u001B[0m\u001B[0;34m=\u001B[0m\u001B[0maxis\u001B[0m\u001B[0;34m)\u001B[0m\u001B[0;34m\u001B[0m\u001B[0;34m\u001B[0m\u001B[0m\n\u001B[0m\u001B[1;32m    932\u001B[0m \u001B[0;34m\u001B[0m\u001B[0m\n\u001B[1;32m    933\u001B[0m     \u001B[0;32mdef\u001B[0m \u001B[0m_is_scalar_access\u001B[0m\u001B[0;34m(\u001B[0m\u001B[0mself\u001B[0m\u001B[0;34m,\u001B[0m \u001B[0mkey\u001B[0m\u001B[0;34m:\u001B[0m \u001B[0mtuple\u001B[0m\u001B[0;34m)\u001B[0m\u001B[0;34m:\u001B[0m\u001B[0;34m\u001B[0m\u001B[0;34m\u001B[0m\u001B[0m\n",
      "\u001B[0;32m/opt/anaconda3/python.app/Contents/lib/python3.9/site-packages/pandas/core/indexing.py\u001B[0m in \u001B[0;36m_getitem_axis\u001B[0;34m(self, key, axis)\u001B[0m\n\u001B[1;32m   1151\u001B[0m                     \u001B[0;32mraise\u001B[0m \u001B[0mValueError\u001B[0m\u001B[0;34m(\u001B[0m\u001B[0;34m\"Cannot index with multidimensional key\"\u001B[0m\u001B[0;34m)\u001B[0m\u001B[0;34m\u001B[0m\u001B[0;34m\u001B[0m\u001B[0m\n\u001B[1;32m   1152\u001B[0m \u001B[0;34m\u001B[0m\u001B[0m\n\u001B[0;32m-> 1153\u001B[0;31m                 \u001B[0;32mreturn\u001B[0m \u001B[0mself\u001B[0m\u001B[0;34m.\u001B[0m\u001B[0m_getitem_iterable\u001B[0m\u001B[0;34m(\u001B[0m\u001B[0mkey\u001B[0m\u001B[0;34m,\u001B[0m \u001B[0maxis\u001B[0m\u001B[0;34m=\u001B[0m\u001B[0maxis\u001B[0m\u001B[0;34m)\u001B[0m\u001B[0;34m\u001B[0m\u001B[0;34m\u001B[0m\u001B[0m\n\u001B[0m\u001B[1;32m   1154\u001B[0m \u001B[0;34m\u001B[0m\u001B[0m\n\u001B[1;32m   1155\u001B[0m             \u001B[0;31m# nested tuple slicing\u001B[0m\u001B[0;34m\u001B[0m\u001B[0;34m\u001B[0m\u001B[0m\n",
      "\u001B[0;32m/opt/anaconda3/python.app/Contents/lib/python3.9/site-packages/pandas/core/indexing.py\u001B[0m in \u001B[0;36m_getitem_iterable\u001B[0;34m(self, key, axis)\u001B[0m\n\u001B[1;32m   1091\u001B[0m \u001B[0;34m\u001B[0m\u001B[0m\n\u001B[1;32m   1092\u001B[0m         \u001B[0;31m# A collection of keys\u001B[0m\u001B[0;34m\u001B[0m\u001B[0;34m\u001B[0m\u001B[0m\n\u001B[0;32m-> 1093\u001B[0;31m         \u001B[0mkeyarr\u001B[0m\u001B[0;34m,\u001B[0m \u001B[0mindexer\u001B[0m \u001B[0;34m=\u001B[0m \u001B[0mself\u001B[0m\u001B[0;34m.\u001B[0m\u001B[0m_get_listlike_indexer\u001B[0m\u001B[0;34m(\u001B[0m\u001B[0mkey\u001B[0m\u001B[0;34m,\u001B[0m \u001B[0maxis\u001B[0m\u001B[0;34m)\u001B[0m\u001B[0;34m\u001B[0m\u001B[0;34m\u001B[0m\u001B[0m\n\u001B[0m\u001B[1;32m   1094\u001B[0m         return self.obj._reindex_with_indexers(\n\u001B[1;32m   1095\u001B[0m             \u001B[0;34m{\u001B[0m\u001B[0maxis\u001B[0m\u001B[0;34m:\u001B[0m \u001B[0;34m[\u001B[0m\u001B[0mkeyarr\u001B[0m\u001B[0;34m,\u001B[0m \u001B[0mindexer\u001B[0m\u001B[0;34m]\u001B[0m\u001B[0;34m}\u001B[0m\u001B[0;34m,\u001B[0m \u001B[0mcopy\u001B[0m\u001B[0;34m=\u001B[0m\u001B[0;32mTrue\u001B[0m\u001B[0;34m,\u001B[0m \u001B[0mallow_dups\u001B[0m\u001B[0;34m=\u001B[0m\u001B[0;32mTrue\u001B[0m\u001B[0;34m\u001B[0m\u001B[0;34m\u001B[0m\u001B[0m\n",
      "\u001B[0;32m/opt/anaconda3/python.app/Contents/lib/python3.9/site-packages/pandas/core/indexing.py\u001B[0m in \u001B[0;36m_get_listlike_indexer\u001B[0;34m(self, key, axis)\u001B[0m\n\u001B[1;32m   1312\u001B[0m             \u001B[0mkeyarr\u001B[0m\u001B[0;34m,\u001B[0m \u001B[0mindexer\u001B[0m\u001B[0;34m,\u001B[0m \u001B[0mnew_indexer\u001B[0m \u001B[0;34m=\u001B[0m \u001B[0max\u001B[0m\u001B[0;34m.\u001B[0m\u001B[0m_reindex_non_unique\u001B[0m\u001B[0;34m(\u001B[0m\u001B[0mkeyarr\u001B[0m\u001B[0;34m)\u001B[0m\u001B[0;34m\u001B[0m\u001B[0;34m\u001B[0m\u001B[0m\n\u001B[1;32m   1313\u001B[0m \u001B[0;34m\u001B[0m\u001B[0m\n\u001B[0;32m-> 1314\u001B[0;31m         \u001B[0mself\u001B[0m\u001B[0;34m.\u001B[0m\u001B[0m_validate_read_indexer\u001B[0m\u001B[0;34m(\u001B[0m\u001B[0mkeyarr\u001B[0m\u001B[0;34m,\u001B[0m \u001B[0mindexer\u001B[0m\u001B[0;34m,\u001B[0m \u001B[0maxis\u001B[0m\u001B[0;34m)\u001B[0m\u001B[0;34m\u001B[0m\u001B[0;34m\u001B[0m\u001B[0m\n\u001B[0m\u001B[1;32m   1315\u001B[0m \u001B[0;34m\u001B[0m\u001B[0m\n\u001B[1;32m   1316\u001B[0m         if needs_i8_conversion(ax.dtype) or isinstance(\n",
      "\u001B[0;32m/opt/anaconda3/python.app/Contents/lib/python3.9/site-packages/pandas/core/indexing.py\u001B[0m in \u001B[0;36m_validate_read_indexer\u001B[0;34m(self, key, indexer, axis)\u001B[0m\n\u001B[1;32m   1372\u001B[0m                 \u001B[0;32mif\u001B[0m \u001B[0muse_interval_msg\u001B[0m\u001B[0;34m:\u001B[0m\u001B[0;34m\u001B[0m\u001B[0;34m\u001B[0m\u001B[0m\n\u001B[1;32m   1373\u001B[0m                     \u001B[0mkey\u001B[0m \u001B[0;34m=\u001B[0m \u001B[0mlist\u001B[0m\u001B[0;34m(\u001B[0m\u001B[0mkey\u001B[0m\u001B[0;34m)\u001B[0m\u001B[0;34m\u001B[0m\u001B[0;34m\u001B[0m\u001B[0m\n\u001B[0;32m-> 1374\u001B[0;31m                 \u001B[0;32mraise\u001B[0m \u001B[0mKeyError\u001B[0m\u001B[0;34m(\u001B[0m\u001B[0;34mf\"None of [{key}] are in the [{axis_name}]\"\u001B[0m\u001B[0;34m)\u001B[0m\u001B[0;34m\u001B[0m\u001B[0;34m\u001B[0m\u001B[0m\n\u001B[0m\u001B[1;32m   1375\u001B[0m \u001B[0;34m\u001B[0m\u001B[0m\n\u001B[1;32m   1376\u001B[0m             \u001B[0mnot_found\u001B[0m \u001B[0;34m=\u001B[0m \u001B[0mlist\u001B[0m\u001B[0;34m(\u001B[0m\u001B[0mensure_index\u001B[0m\u001B[0;34m(\u001B[0m\u001B[0mkey\u001B[0m\u001B[0;34m)\u001B[0m\u001B[0;34m[\u001B[0m\u001B[0mmissing_mask\u001B[0m\u001B[0;34m.\u001B[0m\u001B[0mnonzero\u001B[0m\u001B[0;34m(\u001B[0m\u001B[0;34m)\u001B[0m\u001B[0;34m[\u001B[0m\u001B[0;36m0\u001B[0m\u001B[0;34m]\u001B[0m\u001B[0;34m]\u001B[0m\u001B[0;34m.\u001B[0m\u001B[0munique\u001B[0m\u001B[0;34m(\u001B[0m\u001B[0;34m)\u001B[0m\u001B[0;34m)\u001B[0m\u001B[0;34m\u001B[0m\u001B[0;34m\u001B[0m\u001B[0m\n",
      "\u001B[0;31mKeyError\u001B[0m: \"None of [Index(['Close'], dtype='object', name='Date')] are in the [index]\""
     ]
    }
   ],
   "source": [
    "NAV= pd.DataFrame({'Date':datetime.date(2009,12,31),'NAV':100}, index=[0])\n",
    "for i in asset_list:\n",
    "    # df[i].loc[:,'return']=df[i]['Close'].pct_change()\n",
    "    df[i].loc[lambda df:['Close']]\n"
   ],
   "metadata": {
    "collapsed": false,
    "pycharm": {
     "name": "#%%\n"
    }
   }
  }
 ],
 "metadata": {
  "kernelspec": {
   "name": "pycharm-f6cadfc7",
   "language": "python",
   "display_name": "PyCharm (pythonProject)"
  },
  "language_info": {
   "codemirror_mode": {
    "name": "ipython",
    "version": 2
   },
   "file_extension": ".py",
   "mimetype": "text/x-python",
   "name": "python",
   "nbconvert_exporter": "python",
   "pygments_lexer": "ipython2",
   "version": "2.7.6"
  }
 },
 "nbformat": 4,
 "nbformat_minor": 0
}